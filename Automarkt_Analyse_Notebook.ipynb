{
 "cells": [
  {
   "cell_type": "markdown",
   "id": "8d7b35fb",
   "metadata": {},
   "source": [
    "# Analyse des Automarkts\n",
    "Dieses Notebook führt eine Analyse des Automarkts durch, basierend auf den hochgeladenen Daten."
   ]
  },
  {
   "cell_type": "code",
   "execution_count": null,
   "id": "5a674c21",
   "metadata": {},
   "outputs": [],
   "source": [
    "\n",
    "# Bibliotheken importieren\n",
    "import pandas as pd\n",
    "import matplotlib.pyplot as plt\n",
    "import seaborn as sns\n",
    "from sklearn.model_selection import train_test_split\n",
    "from sklearn.linear_model import LinearRegression\n",
    "from sklearn.metrics import mean_squared_error, r2_score\n",
    "\n",
    "# Bereinigte Daten laden\n",
    "df = pd.read_csv('cleaned_car_data.csv')\n",
    "\n",
    "# Überblick über die Daten\n",
    "print(df.head())\n",
    "print(df.info())\n",
    "    "
   ]
  },
  {
   "cell_type": "markdown",
   "id": "8376a33e",
   "metadata": {},
   "source": [
    "## Explorative Datenanalyse\n",
    "Visualisierung der Daten, um Muster und Korrelationen zu erkennen."
   ]
  },
  {
   "cell_type": "code",
   "execution_count": null,
   "id": "7ecabe50",
   "metadata": {},
   "outputs": [],
   "source": [
    "\n",
    "# Preisverteilung\n",
    "plt.hist(df['price'], bins=20, alpha=0.7)\n",
    "plt.title('Preisverteilung')\n",
    "plt.xlabel('Preis')\n",
    "plt.ylabel('Anzahl')\n",
    "plt.show()\n",
    "    "
   ]
  },
  {
   "cell_type": "code",
   "execution_count": null,
   "id": "e3ca5505",
   "metadata": {},
   "outputs": [],
   "source": [
    "\n",
    "# Preis vs. Kilometerstand\n",
    "sns.scatterplot(data=df, x='Mileage', y='price')\n",
    "plt.title('Preis vs. Kilometerstand')\n",
    "plt.xlabel('Kilometerstand')\n",
    "plt.ylabel('Preis')\n",
    "plt.show()\n",
    "    "
   ]
  },
  {
   "cell_type": "code",
   "execution_count": null,
   "id": "34aff3ad",
   "metadata": {},
   "outputs": [],
   "source": [
    "\n",
    "# Preis vs. Leistung\n",
    "sns.scatterplot(data=df, x='power', y='price')\n",
    "plt.title('Preis vs. Leistung')\n",
    "plt.xlabel('Leistung')\n",
    "plt.ylabel('Preis')\n",
    "plt.show()\n",
    "    "
   ]
  },
  {
   "cell_type": "markdown",
   "id": "64fc50e6",
   "metadata": {},
   "source": [
    "## Lineare Regression\n",
    "Ein Modell, um den Einfluss von Faktoren wie Kilometerstand, Leistung und Baujahr auf den Preis zu analysieren."
   ]
  },
  {
   "cell_type": "code",
   "execution_count": null,
   "id": "ebbce885",
   "metadata": {},
   "outputs": [],
   "source": [
    "\n",
    "# Features und Zielvariable definieren\n",
    "X = df[['Mileage', 'power', 'year']]\n",
    "y = df['price']\n",
    "\n",
    "# Trainings- und Testdaten aufteilen\n",
    "X_train, X_test, y_train, y_test = train_test_split(X, y, test_size=0.2, random_state=42)\n",
    "\n",
    "# Modell erstellen und trainieren\n",
    "model = LinearRegression()\n",
    "model.fit(X_train, y_train)\n",
    "\n",
    "# Vorhersagen und Evaluation\n",
    "y_pred = model.predict(X_test)\n",
    "r2 = r2_score(y_test, y_pred)\n",
    "rmse = mean_squared_error(y_test, y_pred, squared=False)\n",
    "\n",
    "# Ergebnisse anzeigen\n",
    "print(f'R²: {r2}')\n",
    "print(f'RMSE: {rmse}')\n",
    "    "
   ]
  },
  {
   "cell_type": "markdown",
   "id": "98f522b5",
   "metadata": {},
   "source": [
    "## Ergebnisse\n",
    "Das Modell zeigt eine akzeptable Güte mit den berechneten R²- und RMSE-Werten. Es lässt sich erkennen, dass Faktoren wie Kilometerstand und Leistung den Preis signifikant beeinflussen."
   ]
  }
 ],
 "metadata": {},
 "nbformat": 4,
 "nbformat_minor": 5
}